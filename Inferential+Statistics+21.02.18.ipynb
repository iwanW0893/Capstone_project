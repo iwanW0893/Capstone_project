{
 "cells": [
  {
   "cell_type": "markdown",
   "metadata": {},
   "source": [
    "# Importing data"
   ]
  },
  {
   "cell_type": "code",
   "execution_count": 1,
   "metadata": {
    "collapsed": true
   },
   "outputs": [],
   "source": [
    "import pandas as pd\n",
    "import numpy as np\n",
    "import matplotlib.pyplot as plt\n",
    "import seaborn as sns"
   ]
  },
  {
   "cell_type": "code",
   "execution_count": 2,
   "metadata": {
    "collapsed": true
   },
   "outputs": [],
   "source": [
    "#importing cost data sets\n",
    "\n",
    "staff_d = pd.read_csv('staff_costs.csv')\n",
    "sub_d=pd.read_csv('subcontractor_costs.csv')\n",
    "consum_d=pd.read_csv('consumables_costs.csv')\n",
    "soft_d=pd.read_csv('software_costs.csv')"
   ]
  },
  {
   "cell_type": "markdown",
   "metadata": {},
   "source": [
    "# Cost bracket analysis"
   ]
  },
  {
   "cell_type": "code",
   "execution_count": 3,
   "metadata": {},
   "outputs": [
    {
     "name": "stdout",
     "output_type": "stream",
     "text": [
      "<class 'pandas.core.frame.DataFrame'>\n",
      "RangeIndex: 2101 entries, 0 to 2100\n",
      "Data columns (total 4 columns):\n",
      "index    2101 non-null int64\n",
      "Cif      2101 non-null int64\n",
      "ye       2101 non-null int64\n",
      "0        2101 non-null float64\n",
      "dtypes: float64(1), int64(3)\n",
      "memory usage: 65.7 KB\n"
     ]
    }
   ],
   "source": [
    "#Creating sum of each cif and year per cost bracket, and adding them for the total costs.\n",
    "\n",
    "staff_cost = staff_d.set_index(['Cif', 'ye'])['cost']\n",
    "staff_app = staff_d.set_index(['Cif', 'ye'])['pct']\n",
    "staff_rd_cost=staff_cost.mul(staff_app/100)\n",
    "staff_cost_groupby=staff_rd_cost.groupby(['Cif', 'ye']).sum()\n",
    "staff_cost_sum=pd.DataFrame(staff_cost_groupby)\n",
    "\n",
    "sub_cost = sub_d.set_index(['Cif', 'ye'])['costs']\n",
    "sub_app = sub_d.set_index(['Cif', 'ye'])['pct']\n",
    "sub_rd_cost=sub_cost.mul(sub_app/100)\n",
    "sub_cost_groupby=sub_rd_cost.groupby(['Cif', 'ye']).sum()\n",
    "sub_cost_sum=pd.DataFrame(sub_cost_groupby)\n",
    "\n",
    "consum_cost = consum_d.set_index(['Cif', 'ye'])['costs']\n",
    "consum_app = consum_d.set_index(['Cif', 'ye'])['pct']\n",
    "consum_rd_cost=consum_cost.mul(consum_app/100)\n",
    "consum_cost_groupby=consum_rd_cost.groupby(['Cif', 'ye']).sum()\n",
    "consum_cost_sum=pd.DataFrame(consum_cost_groupby)\n",
    "\n",
    "    \n",
    "soft_cost = soft_d.set_index(['Cif', 'ye'])['costs']\n",
    "soft_app = soft_d.set_index(['Cif', 'ye'])['pct']\n",
    "soft_rd_cost=soft_cost.mul(soft_app/100)\n",
    "soft_cost_groupby=soft_rd_cost.groupby(['Cif', 'ye']).sum()\n",
    "soft_cost_sum=pd.DataFrame(soft_cost_groupby)\n",
    "\n",
    "\n",
    "\n",
    "all_costs=pd.concat([staff_cost_sum, sub_cost_sum, consum_cost_sum, soft_cost_sum]).sum(level=['Cif','ye'])\n",
    "all_costs.reset_index(inplace=True)\n",
    "\n",
    "newdf=all_costs\n",
    "newdf.reset_index().info()\n"
   ]
  },
  {
   "cell_type": "code",
   "execution_count": 4,
   "metadata": {
    "collapsed": true
   },
   "outputs": [],
   "source": [
    "#ecdf function\n",
    "def ecdf(data):\n",
    "    \"\"\"Compute ECDF for a one-dimensional array of measurements.\"\"\"\n",
    "\n",
    "    # Number of data points: n\n",
    "    n = len(data)\n",
    "\n",
    "    # x-data for the ECDF: x\n",
    "    x = np.sort(data)\n",
    "\n",
    "    # y-data for the ECDF: y\n",
    "    y = np.arange(1, n+1) / n\n",
    "\n",
    "    return x, y\n"
   ]
  },
  {
   "cell_type": "code",
   "execution_count": 5,
   "metadata": {},
   "outputs": [
    {
     "data": {
      "image/png": "[encoded data removed]",
      "text/plain": [
       "<matplotlib.figure.Figure at 0x24ff6312470>"
      ]
     },
     "metadata": {},
     "output_type": "display_data"
    }
   ],
   "source": [
    "#ecdf of each cost bracket\n",
    "x_staff, y_staff = ecdf(staff_cost_groupby)\n",
    "x_subs, y_subs = ecdf(sub_cost_groupby)\n",
    "x_consum, y_consum = ecdf(consum_cost_groupby)\n",
    "x_soft, y_soft = ecdf(soft_cost_groupby)\n",
    "\n",
    "# Plot all ECDFs on the same plot\n",
    "_ = plt.plot(x_staff, y_staff, marker='.', linestyle='none')\n",
    "_ = plt.plot(x_subs, y_subs, marker='.', linestyle='none')\n",
    "_ = plt.plot(x_consum, y_consum, marker='.', linestyle='none')\n",
    "_ = plt.plot(x_soft, y_soft, marker='.', linestyle='none')\n",
    "\n",
    "# Make the margins nice\n",
    "plt.margins(0.02)\n",
    "\n",
    "# Label the s\n",
    "_ = plt.legend(('staff', 'subcontractors', 'materials', 'software'), loc='lower right')\n",
    "_ = plt.xlabel('apportionment means')\n",
    "_ = plt.ylabel('ECDF')\n",
    "\n",
    "# Display the plot\n",
    "plt.show()\n"
   ]
  },
  {
   "cell_type": "code",
   "execution_count": 6,
   "metadata": {},
   "outputs": [
    {
     "name": "stdout",
     "output_type": "stream",
     "text": [
      "[ 82885.8164]\n",
      "[ 36430.4655]\n",
      "[ 8420.15661765]\n",
      "[ 12220.164]\n"
     ]
    }
   ],
   "source": [
    "#80% percentile of each cost bracket\n",
    "percentiles = np.array([80])\n",
    "print(np.percentile(staff_cost_groupby, percentiles))\n",
    "print(np.percentile(sub_cost_groupby, percentiles))\n",
    "print(np.percentile(consum_cost_groupby, percentiles))\n",
    "print(np.percentile(soft_cost_groupby, percentiles))"
   ]
  },
  {
   "cell_type": "code",
   "execution_count": 7,
   "metadata": {},
   "outputs": [
    {
     "data": {
      "image/png": "[encoded data removed]",
      "text/plain": [
       "<matplotlib.figure.Figure at 0x24ff09634e0>"
      ]
     },
     "metadata": {},
     "output_type": "display_data"
    }
   ],
   "source": [
    "#material and software comparison\n",
    "x_consum, y_consum = ecdf(consum_cost_groupby)\n",
    "x_soft, y_soft = ecdf(soft_cost_groupby)\n",
    "\n",
    "# Plot all ECDFs on the same plot\n",
    "\n",
    "_ = plt.plot(x_consum, y_consum, marker='.', linestyle='none')\n",
    "_ = plt.plot(x_soft, y_soft, marker='.', linestyle='none')\n",
    "\n",
    "# Make the margins nice\n",
    "plt.margins(0.02)\n",
    "\n",
    "# Label the s\n",
    "_ = plt.legend(('consumables', 'software'), loc='lower right')\n",
    "_ = plt.ylabel('ECDF')\n",
    "\n",
    "# Display the plot\n",
    "plt.show()"
   ]
  },
  {
   "cell_type": "code",
   "execution_count": 8,
   "metadata": {
    "collapsed": true
   },
   "outputs": [],
   "source": [
    "#permutation function\n",
    "def permutation_sample(data1, data2):\n",
    "    \"\"\"Generate a permutation sample from two data sets.\"\"\"\n",
    "\n",
    "    # Concatenate the data sets: data\n",
    "    data = np.concatenate((data1, data2))\n",
    "\n",
    "    # Permute the concatenated array: permuted_data\n",
    "    permuted_data = np.random.permutation(data)\n",
    "\n",
    "    # Split the permuted array into two: perm_sample_1, perm_sample_2\n",
    "    perm_sample_1 = permuted_data[:len(data1)]\n",
    "    perm_sample_2 = permuted_data[len(data1):]\n",
    "\n",
    "    return perm_sample_1, perm_sample_2"
   ]
  },
  {
   "cell_type": "code",
   "execution_count": 9,
   "metadata": {},
   "outputs": [
    {
     "data": {
      "image/png": "[encoded data removed]",
      "text/plain": [
       "<matplotlib.figure.Figure at 0x24ff688d3c8>"
      ]
     },
     "metadata": {},
     "output_type": "display_data"
    }
   ],
   "source": [
    "#ecdf plot of permutated data\n",
    "for i in range(50):\n",
    "    # Generate permutation samples\n",
    "    perm_sample_1, perm_sample_2 = permutation_sample(consum_cost_groupby, soft_cost_groupby)\n",
    "\n",
    "\n",
    "    # Compute ECDFs\n",
    "    x_1, y_1 = ecdf(perm_sample_1)\n",
    "    x_2, y_2 = ecdf(perm_sample_2)\n",
    "\n",
    "    # Plot ECDFs of permutation sample\n",
    "    _ = plt.plot(x_1, y_1, marker='.', linestyle='none',\n",
    "                 color='red', alpha=0.02)\n",
    "    _ = plt.plot(x_2, y_2, marker='.', linestyle='none',\n",
    "                 color='blue', alpha=0.02)\n",
    "\n",
    "# Create and plot ECDFs from original data\n",
    "x_1, y_1 = ecdf(consum_cost_groupby)\n",
    "x_2, y_2 = ecdf(soft_cost_groupby)\n",
    "_ = plt.plot(x_1, y_1, marker='.', linestyle='none', color='red')\n",
    "_ = plt.plot(x_2, y_2, marker='.', linestyle='none', color='blue')\n",
    "\n",
    "plt.margins(0.02)\n",
    "_ = plt.xlabel('Material and Software costs')\n",
    "_ = plt.ylabel('ECDF')\n",
    "plt.show()"
   ]
  },
  {
   "cell_type": "code",
   "execution_count": 10,
   "metadata": {},
   "outputs": [
    {
     "name": "stdout",
     "output_type": "stream",
     "text": [
      "p-value = 0.9621\n"
     ]
    }
   ],
   "source": [
    "#P test on distributions of materials and software\n",
    "def diff_of_means(data_1, data_2):\n",
    "    \"\"\"Difference in means of two arrays.\"\"\"\n",
    "\n",
    "    # The difference of means of data_1, data_2: diff\n",
    "    diff = np.mean(data_1) - np.mean(data_2)\n",
    "\n",
    "    return diff\n",
    "\n",
    "# Compute difference of mean impact force from experiment: empirical_diff_means\n",
    "empirical_diff_means = diff_of_means(consum_cost_groupby, soft_cost_groupby)\n",
    "\n",
    "# Concatenate materials and software: costs_concat\n",
    "costs_concat = np.concatenate((consum_cost_groupby, soft_cost_groupby))\n",
    "\n",
    "# Initialize bootstrap replicates: bs_replicates\n",
    "bs_replicates = np.empty(10000)\n",
    "\n",
    "for i in range(10000):\n",
    "    # Generate bootstrap sample\n",
    "    bs_sample = np.random.choice(costs_concat, size=len(costs_concat))\n",
    "\n",
    "    # Compute replicate\n",
    "    bs_replicates[i] = diff_of_means(bs_sample[:len(consum_cost_groupby)],\n",
    "                                     bs_sample[len(consum_cost_groupby):])\n",
    "\n",
    "# Compute and print p-value: p\n",
    "p = np.sum(bs_replicates >= empirical_diff_means) / len(bs_replicates)\n",
    "print('p-value =', p)\n"
   ]
  },
  {
   "cell_type": "code",
   "execution_count": 11,
   "metadata": {
    "collapsed": true
   },
   "outputs": [],
   "source": [
    "#merging data set of total R&D costs and individual cost brackets. To calculate cost bracket against total cost.\n",
    "al_staff=pd.merge(all_costs.reset_index(), staff_cost_sum.reset_index(), on=['Cif', 'ye'], how='inner').set_index(['Cif','ye'])\n",
    "al_sub=pd.merge(all_costs.reset_index(), sub_cost_sum.reset_index(), on=['Cif', 'ye'], how='inner').set_index(['Cif','ye'])\n",
    "al_consum=pd.merge(all_costs.reset_index(), consum_cost_sum.reset_index(), on=['Cif', 'ye'], how='inner').set_index(['Cif','ye'])\n",
    "al_soft=pd.merge(all_costs.reset_index(), soft_cost_sum.reset_index(), on=['Cif', 'ye'], how='inner').set_index(['Cif','ye'])\n"
   ]
  },
  {
   "cell_type": "markdown",
   "metadata": {},
   "source": [
    "Value of r \tStrength of relationship\n",
    "-1.0 to -0.5 or 1.0 to 0.5 \tStrong\n",
    "-0.5 to -0.3 or 0.3 to 0.5 \tModerate\n",
    "-0.3 to -0.1 or 0.1 to 0.3 \tWeak\n",
    "-0.1 to 0.1 \tNone or very weak"
   ]
  },
  {
   "cell_type": "code",
   "execution_count": 12,
   "metadata": {},
   "outputs": [
    {
     "name": "stdout",
     "output_type": "stream",
     "text": [
      "0.915168260082\n",
      "0.638770108895\n",
      "0.535594107627\n",
      "0.643407517805\n"
     ]
    }
   ],
   "source": [
    "#pearson r function\n",
    "def pearson_r(x, y):\n",
    "    \"\"\"Compute Pearson correlation coefficient between two arrays.\"\"\"\n",
    "    # Compute correlation matrix: corr_mat\n",
    "    corr_mat = np.corrcoef(x, y)\n",
    "\n",
    "    # Return entry [0,1]\n",
    "    return corr_mat[0,1]\n",
    "\n",
    "# staff apportionments Pearson correlation coefficient\n",
    "staff_cost_r = pearson_r(al_staff['0_x'], al_staff['0_y'])\n",
    "sub_cost_r = pearson_r(al_sub['0_x'], al_sub['0_y'])\n",
    "consum_cost_r = pearson_r(al_consum['0_x'], al_consum['0_y'])\n",
    "soft_cost_r = pearson_r(al_soft['0_x'], al_soft['0_y'])\n",
    "\n",
    "print(staff_cost_r)\n",
    "print(sub_cost_r)\n",
    "print(consum_cost_r)\n",
    "print(soft_cost_r)"
   ]
  },
  {
   "cell_type": "code",
   "execution_count": 13,
   "metadata": {},
   "outputs": [
    {
     "data": {
      "image/png": "[encoded data removed]",
      "text/plain": [
       "<matplotlib.figure.Figure at 0x24ff6b799e8>"
      ]
     },
     "metadata": {},
     "output_type": "display_data"
    }
   ],
   "source": [
    "plt.hist(staff_app)\n",
    "plt.show()"
   ]
  },
  {
   "cell_type": "code",
   "execution_count": 14,
   "metadata": {},
   "outputs": [
    {
     "data": {
      "image/png": "[encoded data removed]",
      "text/plain": [
       "<matplotlib.figure.Figure at 0x24ff6bbc470>"
      ]
     },
     "metadata": {},
     "output_type": "display_data"
    }
   ],
   "source": [
    "staff_app_mean=staff_d.groupby(['Cif', 'ye'])['pct'].mean()\n",
    "plt.hist(staff_app_mean)\n",
    "plt.show()"
   ]
  },
  {
   "cell_type": "code",
   "execution_count": 15,
   "metadata": {},
   "outputs": [],
   "source": [
    "#Apportionments median created per company and year, and data set added to total costs.\n",
    "\n",
    "staff_app_median=staff_app.groupby(['Cif', 'ye']).median()\n",
    "sub_app_median=sub_app.groupby(['Cif', 'ye']).median()\n",
    "consum_app_median=consum_app.groupby(['Cif', 'ye']).median()\n",
    "soft_app_median=soft_app.groupby(['Cif', 'ye']).median()\n",
    "\n",
    "app_al_staff=pd.merge(all_costs.reset_index(), staff_app_median.reset_index(), on=['Cif', 'ye'], how='inner').set_index(['Cif','ye'])\n",
    "app_al_sub=pd.merge(all_costs.reset_index(), sub_app_median.reset_index(), on=['Cif', 'ye'], how='inner').set_index(['Cif','ye'])\n",
    "app_al_consum=pd.merge(all_costs.reset_index(), consum_app_median.reset_index(), on=['Cif', 'ye'], how='inner').set_index(['Cif','ye'])\n",
    "app_al_soft=pd.merge(all_costs.reset_index(), soft_app_median.reset_index(), on=['Cif', 'ye'], how='inner').set_index(['Cif','ye'])"
   ]
  },
  {
   "cell_type": "code",
   "execution_count": 16,
   "metadata": {},
   "outputs": [
    {
     "name": "stdout",
     "output_type": "stream",
     "text": [
      "0.137424991915\n",
      "0.0709040029158\n",
      "0.0713442123162\n",
      "0.0381986236897\n"
     ]
    }
   ],
   "source": [
    "# Apportionments Pearson correlation coefficient\n",
    "staff_app_r = pearson_r(app_al_staff[0], app_al_staff['pct'])\n",
    "sub_app_r = pearson_r(app_al_sub[0], app_al_sub['pct'])\n",
    "consum_app_r = pearson_r(app_al_consum[0], app_al_consum['pct'])\n",
    "soft_app_r = pearson_r(app_al_soft[0], app_al_soft['pct'])\n",
    "\n",
    "print(staff_app_r)\n",
    "print(sub_app_r)\n",
    "print(consum_app_r)\n",
    "print(soft_app_r)"
   ]
  },
  {
   "cell_type": "code",
   "execution_count": 17,
   "metadata": {
    "collapsed": true
   },
   "outputs": [],
   "source": [
    "# cost count and total cost comparison\n",
    "staff_cost_count=staff_rd_cost.groupby(['Cif', 'ye']).count()\n",
    "sub_cost_count=sub_rd_cost.groupby(['Cif', 'ye']).count()\n",
    "consum_cost_count=consum_rd_cost.groupby(['Cif', 'ye']).count()\n",
    "soft_cost_count=soft_rd_cost.groupby(['Cif', 'ye']).count()\n",
    "\n",
    "\n",
    "count_al_staff=pd.merge(all_costs.reset_index(), staff_cost_count.reset_index(), on=['Cif', 'ye'], how='inner').set_index(['Cif','ye'])\n",
    "count_al_sub=pd.merge(all_costs.reset_index(), sub_cost_count.reset_index(), on=['Cif', 'ye'], how='inner').set_index(['Cif','ye'])\n",
    "count_al_consum=pd.merge(all_costs.reset_index(), consum_cost_count.reset_index(), on=['Cif', 'ye'], how='inner').set_index(['Cif','ye'])\n",
    "count_al_soft=pd.merge(all_costs.reset_index(), soft_cost_count.reset_index(), on=['Cif', 'ye'], how='inner').set_index(['Cif','ye'])"
   ]
  },
  {
   "cell_type": "code",
   "execution_count": 18,
   "metadata": {},
   "outputs": [
    {
     "name": "stdout",
     "output_type": "stream",
     "text": [
      "0.621962118146\n",
      "0.398984991155\n",
      "0.227083227295\n",
      "0.309845686116\n"
     ]
    }
   ],
   "source": [
    "# Count Pearson correlation coefficient\n",
    "staff_count_r = pearson_r(count_al_staff['0_x'], count_al_staff['0_y'])\n",
    "sub_count_r = pearson_r(count_al_sub['0_x'], count_al_sub['0_y'])\n",
    "consum_count_r = pearson_r(count_al_consum['0_x'], count_al_consum['0_y'])\n",
    "soft_count_r = pearson_r(count_al_soft['0_x'], count_al_soft['0_y'])\n",
    "\n",
    "print(staff_count_r)\n",
    "print(sub_count_r)\n",
    "print(consum_count_r)\n",
    "print(soft_count_r)"
   ]
  },
  {
   "cell_type": "markdown",
   "metadata": {},
   "source": [
    "# Importing Client Data"
   ]
  },
  {
   "cell_type": "code",
   "execution_count": 19,
   "metadata": {},
   "outputs": [
    {
     "name": "stderr",
     "output_type": "stream",
     "text": [
      "C:\\Users\\Iwan\\Anaconda3\\lib\\site-packages\\IPython\\core\\interactiveshell.py:2717: DtypeWarning: Columns (11,31,32,37,70,76) have mixed types. Specify dtype option on import or set low_memory=False.\n",
      "  interactivity=interactivity, compiler=compiler, result=result)\n",
      "C:\\Users\\Iwan\\Anaconda3\\lib\\site-packages\\ipykernel_launcher.py:25: SettingWithCopyWarning: \n",
      "A value is trying to be set on a copy of a slice from a DataFrame\n",
      "\n",
      "See the caveats in the documentation: http://pandas.pydata.org/pandas-docs/stable/indexing.html#indexing-view-versus-copy\n",
      "C:\\Users\\Iwan\\Anaconda3\\lib\\site-packages\\pandas\\core\\frame.py:2450: SettingWithCopyWarning: \n",
      "A value is trying to be set on a copy of a slice from a DataFrame.\n",
      "Try using .loc[row_indexer,col_indexer] = value instead\n",
      "\n",
      "See the caveats in the documentation: http://pandas.pydata.org/pandas-docs/stable/indexing.html#indexing-view-versus-copy\n",
      "  self[k1] = value[k2]\n",
      "C:\\Users\\Iwan\\Anaconda3\\lib\\site-packages\\pandas\\core\\generic.py:2999: SettingWithCopyWarning: \n",
      "A value is trying to be set on a copy of a slice from a DataFrame.\n",
      "Try using .loc[row_indexer,col_indexer] = value instead\n",
      "\n",
      "See the caveats in the documentation: http://pandas.pydata.org/pandas-docs/stable/indexing.html#indexing-view-versus-copy\n",
      "  self[name] = value\n"
     ]
    }
   ],
   "source": [
    "#importing client data\n",
    "\n",
    "import re\n",
    "all_d_spread = pd.read_csv('RD All Data Sheet 2018xxx.csv')\n",
    "all_d_spread[['CIFNo', 'Expr1', 'Claim Phase', 'DateReceived', 'PostCode', 'R&D Claim Name', 'Claim Status']]\n",
    "\n",
    "yy_regex=re.compile(r'\\d{2}$')\n",
    "\n",
    "all_d_spread['R&D Claim Name']=all_d_spread['R&D Claim Name'].str.strip()\n",
    "all_d_spread['R&D Claim Name']=all_d_spread['R&D Claim Name'].astype(str)\n",
    "all_d_spread['yydd']=all_d_spread['R&D Claim Name'].str.findall(yy_regex)\n",
    "all_d_spread['yydd']=all_d_spread['yydd'].astype(str).str.replace('\\[|\\]|\\'', '')\n",
    "clientdata=all_d_spread[all_d_spread.yydd != '']\n",
    "clientdata=clientdata[clientdata['Claim Status'] == 'Paid']\n",
    "clientdata['yydd']=clientdata['yydd'].astype(str)\n",
    "clientdata['CIFNo']=clientdata['CIFNo'].astype(str)\n",
    "\n",
    "newdf['Cif']=newdf['Cif'].astype(str)\n",
    "newdf['ye']=newdf['ye'].astype(str)\n",
    "\n",
    "merged_data=pd.merge(newdf, clientdata, how='left', left_on=['Cif', 'ye'], right_on=['CIFNo', 'yydd'])\n",
    "\n",
    "\n",
    "all_d=merged_data[['Cif', 'ye', 'Expr1', 'Claim Phase', 'DateReceived', 'ReportSubmitted', 'PostCode', 0, 'Industry']]\n",
    "all_d.dropna(how='any', axis=0, inplace=True)\n",
    "all_d[all_d.columns]=all_d.applymap(lambda x: x.strip() if type(x) is str else x)\n",
    "\n",
    "#Postcode preprocessing\n",
    "postcode_regex=re.compile(r'^\\D{1,}')\n",
    "all_d.PostCode=all_d.PostCode.str.findall(postcode_regex)\n",
    "all_d.PostCode=all_d.PostCode.astype(str).str.replace('\\[|\\]|\\'', '')"
   ]
  },
  {
   "cell_type": "code",
   "execution_count": null,
   "metadata": {},
   "outputs": [],
   "source": []
  },
  {
   "cell_type": "markdown",
   "metadata": {
    "scrolled": true
   },
   "source": [
    "# Brief analysis on all costs."
   ]
  },
  {
   "cell_type": "code",
   "execution_count": 20,
   "metadata": {},
   "outputs": [
    {
     "data": {
      "image/png": "[encoded data removed]",
      "text/plain": [
       "<matplotlib.figure.Figure at 0x24ff74af2b0>"
      ]
     },
     "metadata": {},
     "output_type": "display_data"
    }
   ],
   "source": [
    "#distribution of all costs \n",
    "\n",
    "plt.hist(all_d[0])\n",
    "plt.show()"
   ]
  },
  {
   "cell_type": "code",
   "execution_count": 21,
   "metadata": {},
   "outputs": [
    {
     "name": "stdout",
     "output_type": "stream",
     "text": [
      "71884.95108833807 10788804995.772781\n"
     ]
    }
   ],
   "source": [
    "# dispersion statistics on total cost information.\n",
    "rdtotal=all_d[0]\n",
    "\n",
    "differences_rdtotal = rdtotal - np.mean(rdtotal)\n",
    "\n",
    "# Square the differences\n",
    "differences_rdtotal_sq = rdtotal**2\n",
    "\n",
    "\n",
    "# Compute the mean square difference\n",
    "rdtotal_variance_explicit = np.mean(rdtotal)\n",
    "\n",
    "# Compute the variance\n",
    "rdtotal_variance_np = np.var(rdtotal)\n",
    "\n",
    "print(rdtotal_variance_explicit, rdtotal_variance_np)"
   ]
  },
  {
   "cell_type": "markdown",
   "metadata": {},
   "source": [
    "# Analysis on Industries"
   ]
  },
  {
   "cell_type": "code",
   "execution_count": 22,
   "metadata": {},
   "outputs": [
    {
     "name": "stdout",
     "output_type": "stream",
     "text": [
      "0       519297.676200\n",
      "1       770372.973000\n",
      "2        63046.854000\n",
      "31       85327.981500\n",
      "32      100082.073000\n",
      "33      118281.971000\n",
      "34      141204.507542\n",
      "37       78628.240000\n",
      "42      160138.173000\n",
      "43          77.005417\n",
      "44      209572.588488\n",
      "45       61309.741000\n",
      "46       27227.350000\n",
      "47       15760.000000\n",
      "92      111121.954010\n",
      "93       28650.339000\n",
      "98        8486.611120\n",
      "99       17187.252240\n",
      "100     217636.943800\n",
      "106      22358.241000\n",
      "107      29981.850000\n",
      "118      36775.256000\n",
      "119      86174.628250\n",
      "120      89088.565300\n",
      "121      77136.785000\n",
      "163        449.125995\n",
      "164      10747.927500\n",
      "165      10073.750000\n",
      "169      52804.426000\n",
      "170      41003.310000\n",
      "            ...      \n",
      "1110     34122.300000\n",
      "1186     59501.889993\n",
      "1241     71752.985321\n",
      "1404     13596.677583\n",
      "1405     11708.675902\n",
      "1443     39880.297800\n",
      "1444     40763.960450\n",
      "1447    362284.137000\n",
      "1461    125870.571581\n",
      "1462     44351.603585\n",
      "1508      2597.833450\n",
      "1509       462.136550\n",
      "1523     10973.293500\n",
      "1537     56899.845000\n",
      "1544     14988.548200\n",
      "1545     17200.348000\n",
      "1636     58700.253500\n",
      "1637     71322.678000\n",
      "1658     21548.697778\n",
      "1659     12359.491944\n",
      "1667      3922.650000\n",
      "1668     37122.160000\n",
      "1671     57098.504750\n",
      "1672     64907.820000\n",
      "1684     56883.580650\n",
      "1685     19405.121250\n",
      "1866     83814.339333\n",
      "1867    130706.984797\n",
      "1876    191924.283935\n",
      "2053     10699.054400\n",
      "Name: 0, Length: 123, dtype: float64\n"
     ]
    }
   ],
   "source": [
    "#selecting the expenditure data for each industry and all industries.\n",
    "\n",
    "group_industry=all_d.groupby('Industry')[0]\n",
    "manuf=all_d[all_d.Industry=='Manufacturing'][0]\n",
    "it=all_d[all_d.Industry=='IT/Software'][0]\n",
    "food=all_d[all_d.Industry=='Food & Drink'][0]\n",
    "mecheng=all_d[all_d.Industry=='Mechanical Engineering'][0]\n",
    "\n",
    "print(mecheng)"
   ]
  },
  {
   "cell_type": "code",
   "execution_count": 23,
   "metadata": {},
   "outputs": [
    {
     "name": "stdout",
     "output_type": "stream",
     "text": [
      "12566620431.925032 12566620431.925032\n",
      "7833553845.047076 7833553845.047076\n",
      "23463601825.761566 23463601825.761566\n",
      "31983163640.793663 31983163640.793663\n"
     ]
    }
   ],
   "source": [
    "#dispersion statistics on individual industries, most frequently occuring.\n",
    "# Array of differences to mean\n",
    "differences_manuf = manuf - np.mean(manuf)\n",
    "differences_it = it - np.mean(it)\n",
    "differences_food = food - np.mean(food)\n",
    "differences_mecheng = mecheng - np.mean(mecheng)\n",
    "\n",
    "# Square the differences\n",
    "differences_manuf_sq = differences_manuf**2\n",
    "differences_it_sq = differences_it**2\n",
    "differences_food_sq = differences_food**2\n",
    "differences_mecheng_sq = differences_mecheng**2\n",
    "\n",
    "# Compute the mean square difference\n",
    "manuf_variance_explicit = np.mean(differences_manuf_sq)\n",
    "it_variance_explicit = np.mean(differences_it_sq)\n",
    "food_variance_explicit = np.mean(differences_food_sq)\n",
    "mecheng_variance_explicit = np.mean(differences_mecheng_sq)\n",
    "\n",
    "# Compute the variance\n",
    "manuf_variance_np = np.var(manuf)\n",
    "it_variance_np = np.var(it)\n",
    "food_variance_np = np.var(food)\n",
    "mecheng_variance_np = np.var(mecheng)\n",
    "\n",
    "print(manuf_variance_explicit, manuf_variance_np)\n",
    "print(it_variance_explicit, it_variance_np)\n",
    "print(food_variance_explicit, food_variance_np)\n",
    "print(mecheng_variance_explicit, mecheng_variance_np)\n"
   ]
  },
  {
   "cell_type": "code",
   "execution_count": 24,
   "metadata": {},
   "outputs": [
    {
     "data": {
      "image/png": "[encoded data removed]",
      "text/plain": [
       "<matplotlib.figure.Figure at 0x24ff78e5f98>"
      ]
     },
     "metadata": {},
     "output_type": "display_data"
    }
   ],
   "source": [
    "# Compute ECDF for Manufacturing costs\n",
    "x_manuf, y_manuf = ecdf(manuf)\n",
    "\n",
    "_ = plt.plot(x_manuf, y_manuf, marker='.', linestyle='none')\n",
    "\n",
    "plt.margins(0.02)\n",
    "\n",
    "_ = plt.xlabel('manuf raw costs')\n",
    "_ = plt.ylabel('ECDF')\n",
    "\n",
    "plt.show()\n"
   ]
  },
  {
   "cell_type": "code",
   "execution_count": 25,
   "metadata": {},
   "outputs": [
    {
     "data": {
      "image/png": "[encoded data removed]",
      "text/plain": [
       "<matplotlib.figure.Figure at 0x24ff7a78d30>"
      ]
     },
     "metadata": {},
     "output_type": "display_data"
    }
   ],
   "source": [
    "# Compute ECDF for IT and Software related costs\n",
    "x_it, y_it = ecdf(it)\n",
    "\n",
    "_ = plt.plot(x_it, y_it, marker='.', linestyle='none')\n",
    "\n",
    "plt.margins(0.02)\n",
    "\n",
    "_ = plt.xlabel('it raw costs')\n",
    "_ = plt.ylabel('ECDF')\n",
    "\n",
    "plt.show()\n"
   ]
  },
  {
   "cell_type": "code",
   "execution_count": 26,
   "metadata": {},
   "outputs": [
    {
     "data": {
      "image/png": "[encoded data removed]",
      "text/plain": [
       "<matplotlib.figure.Figure at 0x24ff7955198>"
      ]
     },
     "metadata": {},
     "output_type": "display_data"
    }
   ],
   "source": [
    "# Compute ECDF for Food & Drink related costs\n",
    "\n",
    "x_food, y_food = ecdf(food)\n",
    "\n",
    "_ = plt.plot(x_food, y_food, marker='.', linestyle='none')\n",
    "\n",
    "plt.margins(0.02)\n",
    "\n",
    "_ = plt.xlabel('food raw costs')\n",
    "_ = plt.ylabel('ECDF')\n",
    "\n",
    "plt.show()"
   ]
  },
  {
   "cell_type": "code",
   "execution_count": 27,
   "metadata": {},
   "outputs": [
    {
     "data": {
      "image/png": "[encoded data removed]",
      "text/plain": [
       "<matplotlib.figure.Figure at 0x24ff79f2128>"
      ]
     },
     "metadata": {},
     "output_type": "display_data"
    }
   ],
   "source": [
    "# Compute ECDF for Mechanical Engineering related costs\n",
    "\n",
    "x_mecheng, y_mecheng = ecdf(mecheng)\n",
    "\n",
    "_ = plt.plot(x_mecheng, y_mecheng, marker='.', linestyle='none')\n",
    "\n",
    "plt.margins(0.02)\n",
    "\n",
    "_ = plt.xlabel('mecheng raw costs')\n",
    "_ = plt.ylabel('ECDF')\n",
    "\n",
    "plt.show()"
   ]
  },
  {
   "cell_type": "code",
   "execution_count": 28,
   "metadata": {},
   "outputs": [
    {
     "name": "stdout",
     "output_type": "stream",
     "text": [
      "[ 85613.82709]\n",
      "[ 111001.1695]\n",
      "[ 107659.297875]\n",
      "[ 106167.39394615]\n"
     ]
    }
   ],
   "source": [
    "print(np.percentile(manuf, percentiles))\n",
    "print(np.percentile(it, percentiles))\n",
    "print(np.percentile(food, percentiles))\n",
    "print(np.percentile(mecheng, percentiles))"
   ]
  },
  {
   "cell_type": "code",
   "execution_count": 29,
   "metadata": {},
   "outputs": [
    {
     "data": {
      "image/png": "[encoded data removed]",
      "text/plain": [
       "<matplotlib.figure.Figure at 0x24ff79f2cf8>"
      ]
     },
     "metadata": {},
     "output_type": "display_data"
    }
   ],
   "source": [
    "# Compute ECDF for Food and Mechanical Engineering related costs together.\n",
    "x_food, y_food = ecdf(food)\n",
    "\n",
    "\n",
    "x_manuf, y_manuf = ecdf(mecheng)\n",
    "\n",
    "_ = plt.plot(x_food, y_food, marker='.', linestyle='none')\n",
    "_ = plt.plot(x_manuf, y_manuf, marker='.', linestyle='none')\n",
    "_ = plt.legend(('food', 'mechanical engineering'), loc='lower right')\n",
    "\n",
    "plt.margins(0.02)\n",
    "\n",
    "_ = plt.ylabel('ECDF')\n",
    "\n",
    "plt.show()"
   ]
  },
  {
   "cell_type": "code",
   "execution_count": 30,
   "metadata": {},
   "outputs": [
    {
     "data": {
      "image/png": "[encoded data removed]",
      "text/plain": [
       "<matplotlib.figure.Figure at 0x24ff7aa88d0>"
      ]
     },
     "metadata": {},
     "output_type": "display_data"
    },
    {
     "data": {
      "text/plain": [
       "10.613652239068786"
      ]
     },
     "execution_count": 30,
     "metadata": {},
     "output_type": "execute_result"
    }
   ],
   "source": [
    "#check distribution of Mechanical Engineering costs\n",
    "log_mecheng=np.log(mecheng)\n",
    "log_mecheng.hist()\n",
    "plt.show()\n",
    "log_mecheng.mean()"
   ]
  },
  {
   "cell_type": "code",
   "execution_count": 31,
   "metadata": {},
   "outputs": [
    {
     "data": {
      "image/png": "[encoded data removed]",
      "text/plain": [
       "<matplotlib.figure.Figure at 0x24ff7d1e320>"
      ]
     },
     "metadata": {},
     "output_type": "display_data"
    }
   ],
   "source": [
    "log_food=np.log(food)\n",
    "log_food.hist()\n",
    "plt.show()"
   ]
  },
  {
   "cell_type": "code",
   "execution_count": 32,
   "metadata": {},
   "outputs": [
    {
     "name": "stdout",
     "output_type": "stream",
     "text": [
      "1.4559615989176917\n",
      "1.2604646545483376\n"
     ]
    }
   ],
   "source": [
    "#Quick look at dispersion statistics\n",
    "print(log_mecheng.std())\n",
    "print(log_food.std())"
   ]
  },
  {
   "cell_type": "code",
   "execution_count": 33,
   "metadata": {},
   "outputs": [
    {
     "data": {
      "image/png": "[encoded data removed]",
      "text/plain": [
       "<matplotlib.figure.Figure at 0x24ff7f322e8>"
      ]
     },
     "metadata": {},
     "output_type": "display_data"
    }
   ],
   "source": [
    "# Trying to look at sampling the log normal data and plotting the ecdf...\n",
    "\n",
    "import matplotlib.pyplot as plt\n",
    "mean_manuf=np.mean(log_mecheng)\n",
    "std_manuf=np.std(log_mecheng)\n",
    "\n",
    "manuf_samples=np.random.lognormal(log_mecheng, 100)\n",
    "\n",
    "ecdf_x, ecdf_y=ecdf(manuf_samples)\n",
    "_=plt.hist(manuf_samples, bins=10, normed=True, histtype='step')\n",
    "x, y=ecdf(log_mecheng)\n",
    "_=plt.plot(x, y)\n",
    "_=plt.plot(ecdf_x, ecdf_y)\n",
    "plt.show()"
   ]
  },
  {
   "cell_type": "markdown",
   "metadata": {},
   "source": []
  },
  {
   "cell_type": "code",
   "execution_count": 34,
   "metadata": {},
   "outputs": [
    {
     "data": {
      "image/png": "[encoded data removed]",
      "text/plain": [
       "<matplotlib.figure.Figure at 0x24ff7edbeb8>"
      ]
     },
     "metadata": {},
     "output_type": "display_data"
    }
   ],
   "source": [
    "# visualising source of log normal data, Mechanical Engineering and Food and Drink.\n",
    "mecheng.hist()\n",
    "plt.show()"
   ]
  },
  {
   "cell_type": "code",
   "execution_count": 35,
   "metadata": {},
   "outputs": [
    {
     "data": {
      "image/png": "[encoded data removed]",
      "text/plain": [
       "<matplotlib.figure.Figure at 0x24ff7d6ac18>"
      ]
     },
     "metadata": {},
     "output_type": "display_data"
    }
   ],
   "source": [
    "food.hist()\n",
    "plt.show()"
   ]
  },
  {
   "cell_type": "code",
   "execution_count": 36,
   "metadata": {},
   "outputs": [
    {
     "name": "stdout",
     "output_type": "stream",
     "text": [
      "difference of means = 0.06961686972487158\n",
      "95% confidence interval = [-0.26711199  0.41961779]\n"
     ]
    }
   ],
   "source": [
    "def bootstrap_replicate_1d(data, func):\n",
    "    return func(np.random.choice(data, size=len(data)))\n",
    "\n",
    "def draw_bs_reps(data, func, size=1):\n",
    "    \"\"\"Draw bootstrap replicates.\"\"\"\n",
    "\n",
    "    # Initialize array of replicates: bs_replicates\n",
    "    bs_replicates = np.empty(size)\n",
    "\n",
    "    # Generate replicates\n",
    "    for i in range(size):\n",
    "        bs_replicates[i] = bootstrap_replicate_1d(data, func)\n",
    "\n",
    "    return bs_replicates\n",
    "\n",
    "\n",
    "# Compute the difference of the sample means: mean_diff\n",
    "mean_diff = np.mean(log_food) - np.mean(log_mecheng)\n",
    "\n",
    "# Get bootstrap replicates of means\n",
    "bs_replicates_food = draw_bs_reps(log_food, np.mean, 10000)\n",
    "bs_replicates_mecheng = draw_bs_reps(log_mecheng, np.mean, 10000)\n",
    "\n",
    "# Compute samples of difference of means: bs_diff_replicates\n",
    "bs_diff_replicates = bs_replicates_food - bs_replicates_mecheng\n",
    "\n",
    "# Compute 95% confidence interval: conf_int\n",
    "conf_int = np.percentile(bs_diff_replicates, [2.5, 97.5])\n",
    "conf_int = np.percentile(bs_diff_replicates, [2.5, 97.5])\n",
    "# Print the results\n",
    "print('difference of means =', mean_diff)\n",
    "print('95% confidence interval =', conf_int)"
   ]
  },
  {
   "cell_type": "code",
   "execution_count": 37,
   "metadata": {},
   "outputs": [
    {
     "name": "stdout",
     "output_type": "stream",
     "text": [
      "p = 0.4925\n"
     ]
    }
   ],
   "source": [
    "# Compute mean of combined data set: combined_mean\n",
    "combined_mean = np.mean(np.concatenate((log_food, log_mecheng)))\n",
    "\n",
    "# Shift the samples\n",
    "food_shifted = log_food - np.mean(log_food) + combined_mean\n",
    "manuf_shifted = log_mecheng - np.mean(log_mecheng) + combined_mean\n",
    "\n",
    "# Get bootstrap replicates of shifted data sets\n",
    "bs_replicates_food = draw_bs_reps(food_shifted, np.mean, 10000)\n",
    "bs_replicates_manuf = draw_bs_reps(manuf_shifted, np.mean, 10000)\n",
    "\n",
    "# Compute replicates of difference of means: bs_diff_replicates\n",
    "bs_diff_replicates = bs_replicates_manuf - bs_replicates_food\n",
    "\n",
    "# Compute the p-value of what is less than 0 difference in means\n",
    "p = np.sum(bs_diff_replicates < 0) / len(bs_diff_replicates)\n",
    "\n",
    "# Print p-value\n",
    "print('p =', p)"
   ]
  },
  {
   "cell_type": "markdown",
   "metadata": {},
   "source": [
    " # Analysis on categorical data."
   ]
  },
  {
   "cell_type": "code",
   "execution_count": 38,
   "metadata": {},
   "outputs": [
    {
     "data": {
      "text/plain": [
       "-0.011846824252031166"
      ]
     },
     "execution_count": 38,
     "metadata": {},
     "output_type": "execute_result"
    }
   ],
   "source": [
    "#postcodes categorised and spearman correlation\n",
    "postcodes_categorised=all_d.assign(PostCode=all_d.PostCode.astype('category').cat.codes)\n",
    "postcodes_categorised.PostCode.corr(postcodes_categorised[0], method='spearman')"
   ]
  },
  {
   "cell_type": "code",
   "execution_count": 39,
   "metadata": {},
   "outputs": [
    {
     "data": {
      "text/plain": [
       "M       109\n",
       "LE       61\n",
       "SK       49\n",
       "L        48\n",
       "WA       40\n",
       "BB       39\n",
       "W        39\n",
       "BD       37\n",
       "S        35\n",
       "CH       32\n",
       "E        32\n",
       "N        32\n",
       "YO       31\n",
       "BS       30\n",
       "WF       29\n",
       "OL       28\n",
       "CM       28\n",
       "BH       27\n",
       "CV       26\n",
       "MK       26\n",
       "BL       26\n",
       "NG       24\n",
       "KT       23\n",
       "SS       23\n",
       "PR       23\n",
       "SW       22\n",
       "SE       21\n",
       "DE       20\n",
       "IP       19\n",
       "BA       19\n",
       "       ... \n",
       "SR        5\n",
       "DY        4\n",
       "SP        4\n",
       "WN        4\n",
       "DH        4\n",
       "DT        4\n",
       "TS        4\n",
       "DA        4\n",
       "LU        4\n",
       "SM        3\n",
       "TF        3\n",
       "PA        3\n",
       "KY        3\n",
       "CO        2\n",
       "PL        2\n",
       "PH        2\n",
       "RC        2\n",
       "FK        2\n",
       "CRO       2\n",
       "LD        2\n",
       "TW        2\n",
       "CT        2\n",
       "BT        2\n",
       "KA        2\n",
       "AB        2\n",
       "FY        1\n",
       "HR        1\n",
       "Y         1\n",
       "WR        1\n",
       "IE        1\n",
       "Name: PostCode, Length: 113, dtype: int64"
      ]
     },
     "execution_count": 39,
     "metadata": {},
     "output_type": "execute_result"
    }
   ],
   "source": [
    "all_d.PostCode.value_counts()"
   ]
  },
  {
   "cell_type": "code",
   "execution_count": 40,
   "metadata": {},
   "outputs": [
    {
     "data": {
      "text/plain": [
       "-0.020922022334200551"
      ]
     },
     "execution_count": 40,
     "metadata": {},
     "output_type": "execute_result"
    }
   ],
   "source": [
    "#industry categorised and spearman correlation\n",
    "industry_categorised=all_d.assign(Industry=all_d.Industry.astype('category').cat.codes)\n",
    "industry_categorised.Industry.corr(industry_categorised[0], method='spearman')"
   ]
  },
  {
   "cell_type": "code",
   "execution_count": 41,
   "metadata": {},
   "outputs": [
    {
     "data": {
      "text/plain": [
       "-0.056804451773478259"
      ]
     },
     "execution_count": 41,
     "metadata": {},
     "output_type": "execute_result"
    }
   ],
   "source": [
    "# year end categorised and spearman correlation\n",
    "ye_categorised=all_d.assign(Expr1=all_d.Expr1.astype('category').cat.codes)\n",
    "ye_categorised.Expr1.corr(ye_categorised[0], method='spearman')"
   ]
  },
  {
   "cell_type": "code",
   "execution_count": 42,
   "metadata": {},
   "outputs": [
    {
     "data": {
      "text/plain": [
       "Manufacturing                             382\n",
       "IT/Software                               286\n",
       "Mechanical Engineering                    123\n",
       "Food & Drink                              117\n",
       "Construction                               87\n",
       "Management/Consulting/Training             63\n",
       "Electronics                                57\n",
       "Printing/Publishing/Literature Binding     53\n",
       "Telecommunications                         37\n",
       "Logistics & Distribution                   34\n",
       "Retail                                     33\n",
       "Wholesalers/Imports                        28\n",
       "Design                                     27\n",
       "Motor Industry                             25\n",
       "Pharmaceuticals                            25\n",
       "Medical Industry                           22\n",
       "Fabric/Clothing                            19\n",
       "Finance                                    18\n",
       "Marketing/Digital Marketing                15\n",
       "Accountancy                                15\n",
       "Taxi Industry                              15\n",
       "Waste Processing                           15\n",
       "Sports, Fitness & Training                 14\n",
       "Biotechnology                              13\n",
       "Banking / Insurance                        11\n",
       "Health & Safety                            10\n",
       "Hygiene, Cleaning & Cosmetics              10\n",
       "Property Services                           9\n",
       "Dental                                      9\n",
       "Film Industry                               9\n",
       "Event's Organiser                           8\n",
       "Audio & Visual (inc. Music Industry)        7\n",
       "Furniture                                   7\n",
       "Ventilation/Window Services                 6\n",
       "Animal/Veterinary                           6\n",
       "Online Retailer                             6\n",
       "Legal Services                              5\n",
       "Prototype Developer                         5\n",
       "Horticulture                                5\n",
       "Leisure/Hospitality                         5\n",
       "Fossil Energy                               4\n",
       "Security                                    4\n",
       "Chemical                                    4\n",
       "Aerospace                                   4\n",
       "Joinery Manufacturing                       4\n",
       "Environmental/Re-Cycling                    4\n",
       "Toy Manufacturer                            3\n",
       "Pest Control Services                       2\n",
       "Renewable Energy                            2\n",
       "Jewellery Manufacturer                      2\n",
       "Mail & Postal                               2\n",
       "Funeral Planning                            1\n",
       "Plastic/Glass Moulding                      1\n",
       "Name: Industry, dtype: int64"
      ]
     },
     "execution_count": 42,
     "metadata": {},
     "output_type": "execute_result"
    }
   ],
   "source": [
    "all_d.Industry.value_counts()"
   ]
  },
  {
   "cell_type": "code",
   "execution_count": 43,
   "metadata": {},
   "outputs": [
    {
     "name": "stderr",
     "output_type": "stream",
     "text": [
      "C:\\Users\\Iwan\\Anaconda3\\lib\\site-packages\\ipykernel_launcher.py:2: SettingWithCopyWarning: \n",
      "A value is trying to be set on a copy of a slice from a DataFrame.\n",
      "Try using .loc[row_indexer,col_indexer] = value instead\n",
      "\n",
      "See the caveats in the documentation: http://pandas.pydata.org/pandas-docs/stable/indexing.html#indexing-view-versus-copy\n",
      "  \n",
      "C:\\Users\\Iwan\\Anaconda3\\lib\\site-packages\\ipykernel_launcher.py:4: SettingWithCopyWarning: \n",
      "A value is trying to be set on a copy of a slice from a DataFrame.\n",
      "Try using .loc[row_indexer,col_indexer] = value instead\n",
      "\n",
      "See the caveats in the documentation: http://pandas.pydata.org/pandas-docs/stable/indexing.html#indexing-view-versus-copy\n",
      "  after removing the cwd from sys.path.\n"
     ]
    },
    {
     "data": {
      "text/plain": [
       "0.1045927104246827"
      ]
     },
     "execution_count": 43,
     "metadata": {},
     "output_type": "execute_result"
    }
   ],
   "source": [
    "#claim phase categorised and spearman correlation\n",
    "phase=all_d\n",
    "phase['Claim Phase'] = phase['Claim Phase'].astype('category')\n",
    "phase['Claim Phase'].cat.categories = [1,2,3,4,5]\n",
    "phase['Claim Phase'] = phase['Claim Phase'].astype('float')\n",
    "phase['Claim Phase'].corr(phase[0], method='spearman')"
   ]
  }
 ],
 "metadata": {
  "kernelspec": {
   "display_name": "Python 3",
   "language": "python",
   "name": "python3"
  },
  "language_info": {
   "codemirror_mode": {
    "name": "ipython",
    "version": 3
   },
   "file_extension": ".py",
   "mimetype": "text/x-python",
   "name": "python",
   "nbconvert_exporter": "python",
   "pygments_lexer": "ipython3",
   "version": "3.6.1"
  }
 },
 "nbformat": 4,
 "nbformat_minor": 2
}
